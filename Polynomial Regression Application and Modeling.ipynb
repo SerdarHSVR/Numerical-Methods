{
  "cells": [
    {
      "cell_type": "code",
      "execution_count": 5,
      "metadata": {
        "ExecuteTime": {
          "end_time": "2024-10-01T12:41:06.227602Z",
          "start_time": "2024-10-01T12:41:05.722330Z"
        },
        "id": "x9oVms2eGm0a"
      },
      "outputs": [],
      "source": [
        "import numpy as np\n",
        "import sklearn"
      ]
    },
    {
      "cell_type": "code",
      "execution_count": 6,
      "metadata": {
        "ExecuteTime": {
          "end_time": "2024-09-30T15:42:14.449790Z",
          "start_time": "2024-09-30T15:42:14.444976Z"
        },
        "id": "pX34MkwuGm0a"
      },
      "outputs": [],
      "source": [
        "\n",
        "class PolynomialRegression:\n",
        "    def __init__(self, degree):\n",
        "        self.degree = degree\n",
        "        self.poly_features = PolynomialFeatures(degree=self.degree)\n",
        "        self.linear_model = LinearRegression()\n",
        "\n",
        "    def fit(self, X, y):\n",
        "        X_poly = self.poly_features.fit_transform(X)\n",
        "        self.linear_model.fit(X_poly, y)\n",
        "\n",
        "    def predict(self, X):\n",
        "        X_poly = self.poly_features.transform(X)\n",
        "        return self.linear_model.predict(X_poly)\n",
        "\n"
      ]
    },
    {
      "cell_type": "code",
      "execution_count": 7,
      "metadata": {
        "ExecuteTime": {
          "end_time": "2024-09-30T15:42:17.860499Z",
          "start_time": "2024-09-30T15:42:17.845184Z"
        },
        "colab": {
          "base_uri": "https://localhost:8080/"
        },
        "id": "rInLyWPOGm0b",
        "outputId": "05733858-6773-467e-f342-57c3f2ba5233"
      },
      "outputs": [
        {
          "name": "stdout",
          "output_type": "stream",
          "text": [
            "[ 1.23315332  1.15043691  1.07074938  0.99404377  0.92027314  0.84939054\n",
            "  0.78134901  0.71610161  0.6536014   0.59380141  0.53665471  0.48211434\n",
            "  0.43013336  0.38066482  0.33366176  0.28907725  0.24686432  0.20697604\n",
            "  0.16936545  0.1339856   0.10078955  0.06973035  0.04076105  0.01383469\n",
            " -0.01109567 -0.03407697 -0.05515617 -0.07438022 -0.09179606 -0.10745064\n",
            " -0.12139092 -0.13366384 -0.14431635 -0.15339539 -0.16094792 -0.16702089\n",
            " -0.17166125 -0.17491593 -0.1768319  -0.1774561  -0.17683548 -0.17501699\n",
            " -0.17204758 -0.16797419 -0.16284378 -0.15670329 -0.14959967 -0.14157988\n",
            " -0.13269085 -0.12297955 -0.11249291 -0.10127789 -0.08938143 -0.07685049\n",
            " -0.06373201 -0.05007294 -0.03592023 -0.02132083 -0.00632169  0.00903025\n",
            "  0.02468803  0.04060471  0.05673333  0.07302695  0.08943862  0.1059214\n",
            "  0.12242832  0.13891245  0.15532683  0.17162452  0.18775856  0.20368202\n",
            "  0.21934793  0.23470935  0.24971934  0.26433094  0.2784972   0.29217118\n",
            "  0.30530592  0.31785449  0.32976992  0.34100527  0.3515136   0.36124794\n",
            "  0.37016137  0.37820691  0.38533764  0.39150659  0.39666682  0.40077138\n",
            "  0.40377332  0.4056257   0.40628156  0.40569395  0.40381593  0.40060055\n",
            "  0.39600086  0.38996991  0.38246075  0.37342643]\n",
            "[ 1.23315332  1.15043691  1.07074938  0.99404377  0.92027314  0.84939054\n",
            "  0.78134901  0.71610161  0.6536014   0.59380141  0.53665471  0.48211434\n",
            "  0.43013336  0.38066482  0.33366176  0.28907725  0.24686432  0.20697604\n",
            "  0.16936545  0.1339856   0.10078955  0.06973035  0.04076105  0.01383469\n",
            " -0.01109567 -0.03407697 -0.05515617 -0.07438022 -0.09179606 -0.10745064\n",
            " -0.12139092 -0.13366384 -0.14431635 -0.15339539 -0.16094792 -0.16702089\n",
            " -0.17166125 -0.17491593 -0.1768319  -0.1774561  -0.17683548 -0.17501699\n",
            " -0.17204758 -0.16797419 -0.16284378 -0.15670329 -0.14959967 -0.14157988\n",
            " -0.13269085 -0.12297955 -0.11249291 -0.10127789 -0.08938143 -0.07685049\n",
            " -0.06373201 -0.05007294 -0.03592023 -0.02132083 -0.00632169  0.00903025\n",
            "  0.02468803  0.04060471  0.05673333  0.07302695  0.08943862  0.1059214\n",
            "  0.12242832  0.13891245  0.15532683  0.17162452  0.18775856  0.20368202\n",
            "  0.21934793  0.23470935  0.24971934  0.26433094  0.2784972   0.29217118\n",
            "  0.30530592  0.31785449  0.32976992  0.34100527  0.3515136   0.36124794\n",
            "  0.37016137  0.37820691  0.38533764  0.39150659  0.39666682  0.40077138\n",
            "  0.40377332  0.4056257   0.40628156  0.40569395  0.40381593  0.40060055\n",
            "  0.39600086  0.38996991  0.38246075  0.37342643]\n"
          ]
        }
      ],
      "source": [
        "from sklearn.preprocessing import PolynomialFeatures\n",
        "from sklearn.linear_model import LinearRegression\n",
        "from sklearn.pipeline import make_pipeline\n",
        "import numpy as np\n",
        "\n",
        "# Create an artificial dataset for polynomial regression\n",
        "X = np.arange(0, 10, 0.1).reshape(-1, 1)\n",
        "y = np.sin(X).ravel() + np.random.normal(0, 0.1, len(X))\n",
        "\n",
        "# Define the degree of the polynomial\n",
        "degree = 3\n",
        "\n",
        "# Create and fit the model\n",
        "model = make_pipeline(PolynomialFeatures(degree), LinearRegression())\n",
        "model.fit(X, y)\n",
        "\n",
        "# Predict using the model\n",
        "y_pred = model.predict(X)\n",
        "\n",
        "\n",
        "# Here compare your result with yours.\n",
        "\n",
        "y_pred_sklearn = model.predict(X)\n",
        "\n",
        "print(y_pred)\n",
        "print(y_pred_sklearn)"
      ]
    },
    {
      "cell_type": "code",
      "execution_count": null,
      "metadata": {
        "id": "gR2hIPZd6tPX"
      },
      "outputs": [],
      "source": []
    }
  ],
  "metadata": {
    "colab": {
      "provenance": []
    },
    "kernelspec": {
      "display_name": "base",
      "language": "python",
      "name": "python3"
    },
    "language_info": {
      "codemirror_mode": {
        "name": "ipython",
        "version": 3
      },
      "file_extension": ".py",
      "mimetype": "text/x-python",
      "name": "python",
      "nbconvert_exporter": "python",
      "pygments_lexer": "ipython3",
      "version": "3.10.12"
    }
  },
  "nbformat": 4,
  "nbformat_minor": 0
}
